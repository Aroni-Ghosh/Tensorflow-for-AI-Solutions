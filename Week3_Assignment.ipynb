{
  "nbformat": 4,
  "nbformat_minor": 0,
  "metadata": {
    "colab": {
      "name": "Week3 Assignment.ipynb",
      "provenance": [],
      "collapsed_sections": [],
      "authorship_tag": "ABX9TyNmgGJbYYIqxK6leRf7M+Jd",
      "include_colab_link": true
    },
    "kernelspec": {
      "name": "python3",
      "display_name": "Python 3"
    }
  },
  "cells": [
    {
      "cell_type": "markdown",
      "metadata": {
        "id": "view-in-github",
        "colab_type": "text"
      },
      "source": [
        "<a href=\"https://colab.research.google.com/github/Aroni-Ghosh/Tensorflow-for-AI-Solutions/blob/gh-pages/Week3_Assignment.ipynb\" target=\"_parent\"><img src=\"https://colab.research.google.com/assets/colab-badge.svg\" alt=\"Open In Colab\"/></a>"
      ]
    },
    {
      "cell_type": "code",
      "metadata": {
        "id": "g3WhqMp61DXy",
        "colab_type": "code",
        "colab": {}
      },
      "source": [
        "import tensorflow as tf\n",
        "from os import path, getcwd, chdir\n",
        "\n",
        "# DO NOT CHANGE THE LINE BELOW. If you are developing in a local\n",
        "# environment, then grab mnist.npz from the Coursera Jupyter Notebook\n",
        "# and place it inside a local folder and edit the path to that location\n",
        "path = f\"{getcwd()}/../tmp/mnist.npz\""
      ],
      "execution_count": 5,
      "outputs": []
    },
    {
      "cell_type": "code",
      "metadata": {
        "id": "tel0dUul-ojR",
        "colab_type": "code",
        "colab": {}
      },
      "source": [
        "config = tf.compat.v1.ConfigProto()\n",
        "config.gpu_options.allow_growth = True\n",
        "sess = tf.compat.v1.Session(config=config)"
      ],
      "execution_count": 8,
      "outputs": []
    },
    {
      "cell_type": "code",
      "metadata": {
        "id": "ecCAKpBJ_AVa",
        "colab_type": "code",
        "colab": {}
      },
      "source": [
        "def train_mnist_conv():\n",
        "  class myCallback(tf.keras.callbacks.Callback):\n",
        "    def on_epoch_end(self,epoch,logs={}):\n",
        "      if(logs.get('accuracy')>0.998):\n",
        "        print(\"\\nReached 99.8% accuracy so cancelling training!\")\n",
        "        self.model.stop_training = True\n",
        "\n",
        "\n",
        "  mnist=tf.keras.datasets.mnist\n",
        "  (training_images,training_labels),(test_images,test_labels)=mnist.load_data(path=path)\n",
        "  #print(training_images.shape[0])\n",
        "  training_images=training_images.reshape(60000,28,28,1)\n",
        "  training_images=training_images/255\n",
        "  #print(test_images.shape[0])\n",
        "  test_images=test_images.reshape(10000,28,28,1)\n",
        "  test_images=test_images/255.0\n",
        "  \n",
        "  callbacks=myCallback()\n",
        "\n",
        "  model=tf.keras.models.Sequential([\n",
        "            tf.keras.layers.Conv2D(64,(3,3),activation='relu',input_shape=(28,28,1)),\n",
        "            tf.keras.layers.MaxPooling2D(2,2),\n",
        "            tf.keras.layers.Flatten(),\n",
        "            tf.keras.layers.Dense(128,activation='relu'),\n",
        "            tf.keras.layers.Dense(10,activation='softmax')                                 \n",
        "  ])\n",
        "\n",
        "  model.compile(optimizer='adam',\n",
        "                loss='sparse_categorical_crossentropy',\n",
        "                metrics=['accuracy'])\n",
        "  history=model.fit(training_images,training_labels,epochs=20,callbacks=[callbacks])\n",
        "\n",
        "  return history.epoch, history.history['accuracy'][-1]\n",
        "\n",
        "       "
      ],
      "execution_count": 43,
      "outputs": []
    },
    {
      "cell_type": "code",
      "metadata": {
        "id": "qoVhOs3PAYXh",
        "colab_type": "code",
        "colab": {
          "base_uri": "https://localhost:8080/",
          "height": 422
        },
        "outputId": "7411f536-5439-4dda-b550-6b23d8a84a6a"
      },
      "source": [
        "train_mnist_conv()"
      ],
      "execution_count": 44,
      "outputs": [
        {
          "output_type": "stream",
          "text": [
            "Epoch 1/20\n",
            "1875/1875 [==============================] - 51s 27ms/step - loss: 0.1497 - accuracy: 0.9553\n",
            "Epoch 2/20\n",
            "1875/1875 [==============================] - 52s 28ms/step - loss: 0.0515 - accuracy: 0.9842\n",
            "Epoch 3/20\n",
            "1875/1875 [==============================] - 51s 27ms/step - loss: 0.0325 - accuracy: 0.9898\n",
            "Epoch 4/20\n",
            "1875/1875 [==============================] - 50s 27ms/step - loss: 0.0216 - accuracy: 0.9935\n",
            "Epoch 5/20\n",
            "1875/1875 [==============================] - 50s 27ms/step - loss: 0.0148 - accuracy: 0.9952\n",
            "Epoch 6/20\n",
            "1875/1875 [==============================] - 50s 27ms/step - loss: 0.0106 - accuracy: 0.9966\n",
            "Epoch 7/20\n",
            "1875/1875 [==============================] - 50s 27ms/step - loss: 0.0084 - accuracy: 0.9970\n",
            "Epoch 8/20\n",
            "1875/1875 [==============================] - 51s 27ms/step - loss: 0.0057 - accuracy: 0.9980\n",
            "Epoch 9/20\n",
            "1875/1875 [==============================] - 50s 27ms/step - loss: 0.0063 - accuracy: 0.9977\n",
            "Epoch 10/20\n",
            "1875/1875 [==============================] - ETA: 0s - loss: 0.0050 - accuracy: 0.9986\n",
            "Reached 99.8% accuracy so cancelling training!\n",
            "1875/1875 [==============================] - 50s 27ms/step - loss: 0.0050 - accuracy: 0.9986\n"
          ],
          "name": "stdout"
        },
        {
          "output_type": "execute_result",
          "data": {
            "text/plain": [
              "([0, 1, 2, 3, 4, 5, 6, 7, 8, 9], 0.9985666871070862)"
            ]
          },
          "metadata": {
            "tags": []
          },
          "execution_count": 44
        }
      ]
    }
  ]
}
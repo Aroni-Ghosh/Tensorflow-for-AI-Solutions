{
  "nbformat": 4,
  "nbformat_minor": 0,
  "metadata": {
    "colab": {
      "name": "Week4 Assignment.ipynb",
      "provenance": [],
      "collapsed_sections": [],
      "authorship_tag": "ABX9TyPSFNx/QUMgigVqE2wn1tZC",
      "include_colab_link": true
    },
    "kernelspec": {
      "name": "python3",
      "display_name": "Python 3"
    }
  },
  "cells": [
    {
      "cell_type": "markdown",
      "metadata": {
        "id": "view-in-github",
        "colab_type": "text"
      },
      "source": [
        "<a href=\"https://colab.research.google.com/github/Aroni-Ghosh/Tensorflow-for-AI-Solutions/blob/gh-pages/Week4_Assignment.ipynb\" target=\"_parent\"><img src=\"https://colab.research.google.com/assets/colab-badge.svg\" alt=\"Open In Colab\"/></a>"
      ]
    },
    {
      "cell_type": "code",
      "metadata": {
        "id": "EgMFZRqbVaKs",
        "colab_type": "code",
        "colab": {
          "base_uri": "https://localhost:8080/",
          "height": 210
        },
        "outputId": "a075e481-09a9-4d83-a618-66cf99119966"
      },
      "source": [
        "!wget --no-check-certificate \\\n",
        "    https://storage.googleapis.com/laurencemoroney-blog.appspot.com/happy-or-sad.zip \\\n",
        "    -O /tmp/happy-or-sad.zip\n",
        "\n"
      ],
      "execution_count": 13,
      "outputs": [
        {
          "output_type": "stream",
          "text": [
            "--2020-06-28 10:04:28--  https://storage.googleapis.com/laurencemoroney-blog.appspot.com/happy-or-sad.zip\n",
            "Resolving storage.googleapis.com (storage.googleapis.com)... 108.177.112.128, 74.125.124.128, 172.217.212.128, ...\n",
            "Connecting to storage.googleapis.com (storage.googleapis.com)|108.177.112.128|:443... connected.\n",
            "HTTP request sent, awaiting response... 200 OK\n",
            "Length: 2670333 (2.5M) [application/zip]\n",
            "Saving to: ‘/tmp/happy-or-sad.zip’\n",
            "\n",
            "\r/tmp/happy-or-sad.z   0%[                    ]       0  --.-KB/s               \r/tmp/happy-or-sad.z 100%[===================>]   2.55M  --.-KB/s    in 0.03s   \n",
            "\n",
            "2020-06-28 10:04:28 (79.3 MB/s) - ‘/tmp/happy-or-sad.zip’ saved [2670333/2670333]\n",
            "\n"
          ],
          "name": "stdout"
        }
      ]
    },
    {
      "cell_type": "code",
      "metadata": {
        "id": "OZ1-SblFVm8h",
        "colab_type": "code",
        "colab": {}
      },
      "source": [
        "import tensorflow as tf\n",
        "import os\n",
        "import zipfile\n",
        "from os import path, getcwd, chdir\n",
        "\n",
        "# DO NOT CHANGE THE LINE BELOW. If you are developing in a local\n",
        "# environment, then grab happy-or-sad.zip from the Coursera Jupyter Notebook\n",
        "# and place it inside a local folder and edit the path to that location\n",
        "path = f\"{getcwd()}/../tmp/happy-or-sad.zip\"\n",
        "\n",
        "zip_ref = zipfile.ZipFile(path, 'r')\n",
        "zip_ref.extractall(\"/tmp/happy-or-sad\")\n",
        "zip_ref.close()"
      ],
      "execution_count": 16,
      "outputs": []
    },
    {
      "cell_type": "code",
      "metadata": {
        "id": "nejf-QALYNyr",
        "colab_type": "code",
        "colab": {}
      },
      "source": [
        "# GRADED FUNCTION: train_happy_sad_model\n",
        "def train_happy_sad_model():\n",
        "\n",
        "  DESIRED_ACCURACY = 0.999\n",
        "  class myCallback(tf.keras.callbacks.Callback):\n",
        "    def on_epoch_end(self,epoch,logs={}):\n",
        "      if (logs.get('accuracy')>DESIRED_ACCURACY):\n",
        "        print(\"\\nReached 99.9% accuracy so cancelling training!\")\n",
        "        self.model.stop_training=True\n",
        "\n",
        "\n",
        "  callbacks=myCallback()\n",
        "  model=tf.keras.models.Sequential([\n",
        "           tf.keras.layers.Conv2D(16,(3,3),activation='relu',input_shape=(150,150,3)),\n",
        "           tf.keras.layers.MaxPooling2D(2,2),\n",
        "           tf.keras.layers.Conv2D(16,(3,3),activation='relu'),\n",
        "           tf.keras.layers.MaxPooling2D(2,2),\n",
        "           tf.keras.layers.Conv2D(64,(3,3),activation='relu'),\n",
        "           tf.keras.layers.MaxPooling2D(2,2),\n",
        "           tf.keras.layers.Flatten(),\n",
        "           tf.keras.layers.Dense(512, activation='relu'),\n",
        "           tf.keras.layers.Dense(1, activation='sigmoid')                              \n",
        "\n",
        "  ])  \n",
        "  from tensorflow.keras.optimizers import RMSprop\n",
        "\n",
        "  model.compile(loss='binary_crossentropy',\n",
        "            optimizer=RMSprop(lr=0.001),\n",
        "            metrics=['accuracy'])   \n",
        "\n",
        "  from tensorflow.keras.preprocessing.image import ImageDataGenerator\n",
        "\n",
        "  train_datagen = ImageDataGenerator(rescale=1/255) \n",
        "\n",
        "  train_generator = train_datagen.flow_from_directory(\n",
        "       '/tmp/happy-or-sad/', \n",
        "        target_size=(150, 150),  \n",
        "        batch_size=10,\n",
        "        class_mode='binary')\n",
        "  history = model.fit_generator(\n",
        "      train_generator,\n",
        "      steps_per_epoch=8,  \n",
        "      epochs=15,\n",
        "      verbose=1,\n",
        "      callbacks=[callbacks])\n",
        "  \n",
        "  return history.history['accuracy'][-1]"
      ],
      "execution_count": 19,
      "outputs": []
    },
    {
      "cell_type": "code",
      "metadata": {
        "id": "NtbLr_7obfLO",
        "colab_type": "code",
        "colab": {
          "base_uri": "https://localhost:8080/",
          "height": 404
        },
        "outputId": "32c2e673-1289-4540-e897-b21205a368b9"
      },
      "source": [
        "train_happy_sad_model()"
      ],
      "execution_count": 20,
      "outputs": [
        {
          "output_type": "stream",
          "text": [
            "Found 80 images belonging to 2 classes.\n",
            "Epoch 1/15\n",
            "8/8 [==============================] - 2s 219ms/step - loss: 1.3942 - accuracy: 0.5875\n",
            "Epoch 2/15\n",
            "8/8 [==============================] - 2s 217ms/step - loss: 0.4477 - accuracy: 0.8375\n",
            "Epoch 3/15\n",
            "8/8 [==============================] - 2s 218ms/step - loss: 0.2689 - accuracy: 0.9000\n",
            "Epoch 4/15\n",
            "8/8 [==============================] - 2s 217ms/step - loss: 0.1561 - accuracy: 0.9500\n",
            "Epoch 5/15\n",
            "8/8 [==============================] - 2s 218ms/step - loss: 0.1773 - accuracy: 0.8875\n",
            "Epoch 6/15\n",
            "8/8 [==============================] - 2s 218ms/step - loss: 0.0656 - accuracy: 0.9625\n",
            "Epoch 7/15\n",
            "8/8 [==============================] - 2s 219ms/step - loss: 0.0820 - accuracy: 0.9500\n",
            "Epoch 8/15\n",
            "8/8 [==============================] - 2s 219ms/step - loss: 0.0476 - accuracy: 0.9750\n",
            "Epoch 9/15\n",
            "8/8 [==============================] - ETA: 0s - loss: 0.0221 - accuracy: 1.0000\n",
            "Reached 99.9% accuracy so cancelling training!\n",
            "8/8 [==============================] - 2s 221ms/step - loss: 0.0221 - accuracy: 1.0000\n"
          ],
          "name": "stdout"
        },
        {
          "output_type": "execute_result",
          "data": {
            "text/plain": [
              "1.0"
            ]
          },
          "metadata": {
            "tags": []
          },
          "execution_count": 20
        }
      ]
    }
  ]
}